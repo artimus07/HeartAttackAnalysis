{
 "cells": [
  {
   "cell_type": "code",
   "execution_count": 1,
   "metadata": {},
   "outputs": [],
   "source": [
    "import os"
   ]
  },
  {
   "cell_type": "code",
   "execution_count": 2,
   "metadata": {},
   "outputs": [
    {
     "data": {
      "text/plain": [
       "'d:\\\\HeartAttackAnalysis\\\\research'"
      ]
     },
     "execution_count": 2,
     "metadata": {},
     "output_type": "execute_result"
    }
   ],
   "source": [
    "%pwd"
   ]
  },
  {
   "cell_type": "code",
   "execution_count": 3,
   "metadata": {},
   "outputs": [
    {
     "data": {
      "text/plain": [
       "'d:\\\\HeartAttackAnalysis'"
      ]
     },
     "execution_count": 3,
     "metadata": {},
     "output_type": "execute_result"
    }
   ],
   "source": [
    "os.chdir(\"../\")\n",
    "%pwd"
   ]
  },
  {
   "cell_type": "code",
   "execution_count": 4,
   "metadata": {},
   "outputs": [],
   "source": [
    "from dataclasses import dataclass\n",
    "from pathlib import Path\n",
    "\n",
    "\n",
    "@dataclass(frozen=True)\n",
    "class DataTransformationConfig:\n",
    "    root_dir: Path\n",
    "    data_path: Path\n",
    "    categorical_list: list\n",
    "    numerical_list: list"
   ]
  },
  {
   "cell_type": "code",
   "execution_count": 5,
   "metadata": {},
   "outputs": [],
   "source": [
    "from src.HeartAttackAnalysis.constants import *\n",
    "from src.HeartAttackAnalysis.utils.common import read_yaml, create_directories"
   ]
  },
  {
   "cell_type": "code",
   "execution_count": 6,
   "metadata": {},
   "outputs": [],
   "source": [
    "class ConfigurationManager:\n",
    "    def __init__(\n",
    "            self,\n",
    "            config_file_path,\n",
    "            params_filepath,\n",
    "            schema_filepath,\n",
    "            categorical_list,\n",
    "            numerical_list,\n",
    "    ):\n",
    "        self.config_file_path = read_yaml(config_file_path)\n",
    "        self.params_filepath = read_yaml(params_filepath)\n",
    "        self.schema_filepath = read_yaml(schema_filepath)\n",
    "        self.categorical_list = categorical_list\n",
    "        self.numerical_list = numerical_list\n",
    "\n",
    "        create_directories([self.config_file_path.artifacts_root])\n",
    "    \n",
    "    def get_data_transformation_config(self) -> DataTransformationConfig:\n",
    "        config = self.config_file_path.data_transformation\n",
    "\n",
    "        create_directories([config.root_dir])\n",
    "\n",
    "        data_transformation_config = DataTransformationConfig(\n",
    "            root_dir = config.root_dir,\n",
    "            data_path = config.data_path,\n",
    "            categorical_list= self.categorical_list,\n",
    "            numerical_list=  self.numerical_list\n",
    "        )\n",
    "\n",
    "        return data_transformation_config"
   ]
  },
  {
   "cell_type": "code",
   "execution_count": 7,
   "metadata": {},
   "outputs": [],
   "source": [
    "import os\n",
    "from src.HeartAttackAnalysis.logging.logger import  logging\n",
    "from src.HeartAttackAnalysis.exception.exception import  HeartAttackAnalysisException\n",
    "from sklearn.model_selection import train_test_split\n",
    "from sklearn.preprocessing import StandardScaler\n",
    "import pandas as pd\n",
    "import numpy as np"
   ]
  },
  {
   "cell_type": "code",
   "execution_count": 8,
   "metadata": {},
   "outputs": [],
   "source": [
    "class DataTransformation:\n",
    "    def __init__(self, config: DataTransformationConfig):\n",
    "        self.config = config\n",
    "        self.scaler = StandardScaler()\n",
    "\n",
    "    def scale_numerical_data(self, df: pd.DataFrame) -> pd.DataFrame:\n",
    "        logging.info(\"Enter the scale_numerical_data in DataTransformation class\")\n",
    "        scaled_array = self.scaler.fit_transform(df[self.config.numerical_list[:-1]])\n",
    "        scaled_df = pd.DataFrame(scaled_array, columns=self.config.numerical_list[:-1])\n",
    "        return scaled_df\n",
    "\n",
    "    \n",
    "    def add_target_column(self, scaled_df: pd.DataFrame, df: pd.DataFrame) -> pd.DataFrame:\n",
    "        logging.info(\"Enter the add_target_column in DataTransformation class\")\n",
    "        scaled_df[\"target\"] = df[\"target\"]\n",
    "        return scaled_df\n",
    "    \n",
    "    def melt_data(self, df:pd.DataFrame)->pd.DataFrame:\n",
    "        logging.info(\"Enter the melt_data in DataTransformation class\")\n",
    "        return pd.melt(df, id_vars= \"target\", var_name = \"features\", value_name = \"value\")\n",
    "    \n",
    "    def detect_and_remove_outliers(self, df: pd.DataFrame, numerical_list: list, multiplier: float = 2.5) -> pd.DataFrame:\n",
    "        logging.info(\"Enter the detect_and_remove_outliers in DataTransformation class\")\n",
    "\n",
    "        def calculate_iqr_bounds(series, multiplier):\n",
    "            Q1 = np.percentile(series, 25)\n",
    "            Q3 = np.percentile(series, 75)\n",
    "            IQR = Q3 - Q1\n",
    "            lower_bound = Q1 - (multiplier * IQR)\n",
    "            upper_bound = Q3 + (multiplier * IQR)\n",
    "            return lower_bound, upper_bound\n",
    "\n",
    "        for col in numerical_list:\n",
    "            lower_bound, upper_bound = calculate_iqr_bounds(df[col], multiplier)\n",
    "            df = df[(df[col] >= lower_bound) & (df[col] <= upper_bound)]\n",
    "        return df\n",
    "    \n",
    "    def encode_categorical_data(self, df:pd.DataFrame)->pd.DataFrame:\n",
    "        logging.info(\"Enter the encode_categorical_data in DataTransformation class\")\n",
    "        return pd.get_dummies(df, columns = self.config.categorical_list[:-1])\n",
    "    \n",
    "    def split_data(self, df: pd.DataFrame) -> tuple:\n",
    "        \"\"\"Splits the data into training and testing sets and saves them as CSV files.\"\"\"\n",
    "        X = df.drop([\"target\"], axis=1)\n",
    "        y = df[\"target\"]\n",
    "\n",
    "        X[self.config.numerical_list[:-1]] = self.scaler.fit_transform(X[self.config.numerical_list[:-1]])\n",
    "        X_train, X_test, y_train, y_test = train_test_split(X, y, test_size=0.1, random_state=3)\n",
    "\n",
    "        train_dir = Path(self.config.root_dir) / \"train\"\n",
    "        test_dir = Path(self.config.root_dir) / \"test\"\n",
    "\n",
    "        train_dir.mkdir(parents=True, exist_ok=True)\n",
    "        test_dir.mkdir(parents=True, exist_ok=True)\n",
    "\n",
    "        X_train.to_csv(train_dir / \"X_train.csv\", index=False)\n",
    "        X_test.to_csv(test_dir / \"X_test.csv\", index=False)\n",
    "        y_train.to_csv(train_dir / \"y_train.csv\", index=False)\n",
    "        y_test.to_csv(test_dir / \"y_test.csv\", index=False)\n",
    "\n",
    "        print(f\"X_train: {X_train.shape}\")\n",
    "        print(f\"X_test: {X_test.shape}\")\n",
    "        print(f\"y_train: {y_train.shape}\")\n",
    "        print(f\"y_test: {y_test.shape}\")\n",
    "\n",
    "        return X_train, X_test, y_train, y_test\n",
    "    \n",
    "    \n",
    "        "
   ]
  },
  {
   "cell_type": "code",
   "execution_count": 9,
   "metadata": {},
   "outputs": [
    {
     "name": "stdout",
     "output_type": "stream",
     "text": [
      "X_train: (272, 30)\n",
      "X_test: (31, 30)\n",
      "y_train: (272,)\n",
      "y_test: (31,)\n"
     ]
    }
   ],
   "source": [
    "try:\n",
    "    config = ConfigurationManager(\n",
    "        config_file_path=CONFIG_FILE_PATH,\n",
    "        params_filepath=PARAMS_FILE_PATH,\n",
    "        schema_filepath=SCHEMA_FILE_PATH,\n",
    "        categorical_list=[\"sex\", \"cp\", \"fbs\", \"restecg\", \"exang\", \"slope\", \"ca\", \"thal\", \"target\"],\n",
    "        numerical_list=['age', 'trestbps', 'chol', 'thalach', 'oldpeak', 'target']\n",
    "    )\n",
    "\n",
    "    data_transformation_config = config.get_data_transformation_config()\n",
    "    data_transformation = DataTransformation(config=data_transformation_config)\n",
    "    df = pd.read_csv(data_transformation_config.data_path)\n",
    "    outlier_removed_df = data_transformation.detect_and_remove_outliers(df, config.numerical_list[:-1])\n",
    "    scaled_df = data_transformation.scale_numerical_data(outlier_removed_df)\n",
    "    scaled_with_target_df = data_transformation.add_target_column(scaled_df, outlier_removed_df)\n",
    "    \n",
    "    # Ensure categorical columns are included before encoding\n",
    "    combined_df = pd.concat([scaled_with_target_df, outlier_removed_df[config.categorical_list[:-1]]], axis=1)\n",
    "    \n",
    "    encoded_df = data_transformation.encode_categorical_data(combined_df)\n",
    "    data_transformation.split_data(encoded_df)\n",
    "\n",
    "except HeartAttackAnalysisException as e:\n",
    "    raise e"
   ]
  }
 ],
 "metadata": {
  "kernelspec": {
   "display_name": "Python 3",
   "language": "python",
   "name": "python3"
  },
  "language_info": {
   "codemirror_mode": {
    "name": "ipython",
    "version": 3
   },
   "file_extension": ".py",
   "mimetype": "text/x-python",
   "name": "python",
   "nbconvert_exporter": "python",
   "pygments_lexer": "ipython3",
   "version": "3.10.16"
  }
 },
 "nbformat": 4,
 "nbformat_minor": 2
}
